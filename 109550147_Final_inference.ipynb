{
 "cells": [
  {
   "cell_type": "code",
   "execution_count": 43,
   "metadata": {},
   "outputs": [],
   "source": [
    "import csv\n",
    "import cv2\n",
    "import numpy as np\n",
    "import random\n",
    "import os\n",
    "import gc\n",
    "import pandas as pd\n",
    "import torch\n",
    "import matplotlib.pyplot as plt\n",
    "from sklearn.linear_model import LogisticRegression\n",
    "from sklearn.preprocessing import StandardScaler\n",
    "from torch.utils.data import Dataset, DataLoader\n",
    "from torch.optim import lr_scheduler\n",
    "from torch import nn\n",
    "from torch.nn import functional as F"
   ]
  },
  {
   "cell_type": "code",
   "execution_count": 44,
   "metadata": {},
   "outputs": [
    {
     "name": "stdout",
     "output_type": "stream",
     "text": [
      "Using cuda device\n"
     ]
    }
   ],
   "source": [
    "#read csv file\n",
    "TRAIN_PATH = \"train.csv\" #\"/content/drive/MyDrive/Messi/Final/train.csv\"\n",
    "TEST_PATH = \"test.csv\" #\"/content/drive/MyDrive/Messi/Final/test.csv\"\n",
    "MODEL_PATH = \"model.pt\" #\"/content/drive/MyDrive/Messi/Final/model.pt\"\n",
    "train_data = pd.read_csv(TRAIN_PATH)\n",
    "test_data = pd.read_csv(TEST_PATH)\n",
    "cat_all = train_data.columns[2:25].tolist() #get out the feature name\n",
    "val_ind = train_data.columns[25:26].tolist() #get out the target name\n",
    "\n",
    "rep = {'material_5':5, 'material_6':6, 'material_7':7, 'material_8':8} #how to replace the material with number\n",
    "#replace two columns in train_data and test_data\n",
    "train_data = train_data.replace({'attribute_0': rep})\n",
    "train_data = train_data.replace({'attribute_1': rep})\n",
    "test_data = test_data.replace({'attribute_0': rep})\n",
    "test_data = test_data.replace({'attribute_1': rep})\n",
    "\n",
    "#fill in the nan value\n",
    "#inspire by https://www.kaggle.com/code/tomjosephmo/logistic-regression-with-missing-values-accounted\n",
    "for col in train_data.columns: #modify train data\n",
    "    if not type(train_data[col][0]) == str: #if it is nan\n",
    "        train_data[col].fillna(train_data[col].mean(), inplace=True)\n",
    "        \n",
    "for col in test_data.columns: #modify test data\n",
    "    if not type(test_data[col][0]) == str: #if it is nan\n",
    "        test_data[col].fillna(test_data[col].mean(), inplace=True)\n",
    "\n",
    "device = \"cuda\" if torch.cuda.is_available() else \"cpu\" #if cuda is available use cuda\n",
    "print(f\"Using {device} device\")\n",
    "\n",
    "x_train = train_data[cat_all].values #get out the feature training data\n",
    "y_train = train_data[val_ind].values #get out the target training data\n",
    "y_train = y_train.flatten()\n",
    "x_test = test_data[cat_all].values #get out the feature test data"
   ]
  },
  {
   "cell_type": "code",
   "execution_count": 45,
   "metadata": {},
   "outputs": [],
   "source": [
    "class TPS_train_dataset(Dataset):\n",
    "    def __init__(self, x_data, y_data):\n",
    "        self.x_data = torch.tensor(x_data, dtype=torch.float32)\n",
    "        self.y_data = torch.tensor(y_data, dtype=torch.float32)\n",
    "        self.length = self.x_data.shape[0]\n",
    "\n",
    "    def __getitem__(self, ind):\n",
    "        return self.x_data[ind], self.y_data[ind] #return x data and y data\n",
    "\n",
    "    def __len__(self):\n",
    "        return self.length\n",
    "class TPS_test_dataset(Dataset):\n",
    "    def __init__(self, x_data):\n",
    "        self.x_data = torch.tensor(x_data, dtype=torch.float32)\n",
    "        self.length = self.x_data.shape[0]\n",
    "\n",
    "    def __getitem__(self, ind):\n",
    "        return self.x_data[ind] #test data dont have target feature so only return x\n",
    "\n",
    "    def __len__(self):\n",
    "        return self.length\n"
   ]
  },
  {
   "cell_type": "code",
   "execution_count": 46,
   "metadata": {},
   "outputs": [],
   "source": [
    "#three fully connected layer\n",
    "class Model(nn.Module):\n",
    "    def __init__(self, num_feature):\n",
    "        super(Model, self).__init__()\n",
    "        self.fc1 = nn.Linear(num_feature, 32)\n",
    "        self.fc2 = nn.Linear(32, 64)\n",
    "        self.fc3 = nn.Linear(64, 1) #make output of the network to right dimension\n",
    "\n",
    "    def forward(self, x_data):\n",
    "        x_data = torch.relu(self.fc1(x_data)) #put in relu activation function\n",
    "        x_data = torch.relu(self.fc2(x_data))\n",
    "        x_data = torch.sigmoid(self.fc3(x_data)) #use sigmoid to make value between 0-1\n",
    "        return x_data #return model"
   ]
  },
  {
   "cell_type": "code",
   "execution_count": 47,
   "metadata": {},
   "outputs": [],
   "source": [
    "#load test data\n",
    "test_ds = TPS_test_dataset(x_test)\n",
    "test_dl = DataLoader(test_ds, batch_size = 1, shuffle = False)\n",
    "        "
   ]
  },
  {
   "cell_type": "code",
   "execution_count": 48,
   "metadata": {},
   "outputs": [],
   "source": [
    "ind = np.array([i for i in range(26570, 47345)])\n",
    "result = []\n",
    "model = Model(num_feature = 23)\n",
    "model.load_state_dict(torch.load(\"model.pt\"))\n",
    "model.eval()\n",
    "for x_data in test_dl:\n",
    "    pred = model(x_data) #predict the result\n",
    "    pred = pred.detach().numpy()\n",
    "    pred = pred.flatten()\n",
    "    result = np.concatenate((result, pred)) #concate all result together\n",
    "\n",
    "df = pd.DataFrame({\"id\":ind, \"failure\":result}, columns = [\"id\", \"failure\"]) #set dataframe\n",
    "df.to_csv(f\"109550147_submission.csv\", index=False) #index set to false so that csv file dont have one extra column"
   ]
  }
 ],
 "metadata": {
  "kernelspec": {
   "display_name": "Python 3",
   "language": "python",
   "name": "python3"
  },
  "language_info": {
   "codemirror_mode": {
    "name": "ipython",
    "version": 3
   },
   "file_extension": ".py",
   "mimetype": "text/x-python",
   "name": "python",
   "nbconvert_exporter": "python",
   "pygments_lexer": "ipython3",
   "version": "3.8.10"
  },
  "orig_nbformat": 4,
  "vscode": {
   "interpreter": {
    "hash": "9650cb4e16cdd4a8e8e2d128bf38d875813998db22a3c986335f89e0cb4d7bb2"
   }
  }
 },
 "nbformat": 4,
 "nbformat_minor": 2
}
