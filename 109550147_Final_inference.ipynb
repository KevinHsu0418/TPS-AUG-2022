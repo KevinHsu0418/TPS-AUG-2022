{
  "cells": [
    {
      "cell_type": "code",
      "execution_count": 28,
      "metadata": {
        "id": "-UBLbIPdDZjM"
      },
      "outputs": [],
      "source": [
        "import csv\n",
        "import cv2\n",
        "import numpy as np\n",
        "import random\n",
        "import os\n",
        "import gc\n",
        "import pandas as pd\n",
        "import torch\n",
        "import matplotlib.pyplot as plt\n",
        "from sklearn.linear_model import LogisticRegression\n",
        "from sklearn.preprocessing import StandardScaler\n",
        "from torch.utils.data import Dataset, DataLoader\n",
        "from torch.optim import lr_scheduler\n",
        "from torch import nn\n",
        "from torch.nn import functional as F"
      ]
    },
    {
      "cell_type": "code",
      "source": [
        "from google.colab import drive\n",
        "drive.mount('/content/drive')"
      ],
      "metadata": {
        "colab": {
          "base_uri": "https://localhost:8080/"
        },
        "id": "BsBW43HHEH6I",
        "outputId": "8225d5e4-36a7-4d8c-aabd-ef0dcd850f50"
      },
      "execution_count": 29,
      "outputs": [
        {
          "output_type": "stream",
          "name": "stdout",
          "text": [
            "Drive already mounted at /content/drive; to attempt to forcibly remount, call drive.mount(\"/content/drive\", force_remount=True).\n"
          ]
        }
      ]
    },
    {
      "cell_type": "code",
      "execution_count": 30,
      "metadata": {
        "colab": {
          "base_uri": "https://localhost:8080/"
        },
        "id": "BponFyCEDZjM",
        "outputId": "74b2a60f-3520-4209-980a-3fc3bb7ad668"
      },
      "outputs": [
        {
          "output_type": "stream",
          "name": "stdout",
          "text": [
            "Using cpu device\n"
          ]
        }
      ],
      "source": [
        "#read csv file\n",
        "TRAIN_PATH = \"/content/drive/MyDrive/Messi/Final/train.csv\" #\"/content/drive/MyDrive/Messi/Final/train.csv\"\n",
        "TEST_PATH = \"/content/drive/MyDrive/Messi/Final/test.csv\" #\"/content/drive/MyDrive/Messi/Final/test.csv\"\n",
        "MODEL_PATH = \"/content/drive/MyDrive/Messi/Final/model.pt\" #\"/content/drive/MyDrive/Messi/Final/model.pt\"\n",
        "train_data = pd.read_csv(TRAIN_PATH)\n",
        "test_data = pd.read_csv(TEST_PATH)\n",
        "cat_all = train_data.columns[2:25].tolist() #get out the feature name\n",
        "val_ind = train_data.columns[25:26].tolist() #get out the target name\n",
        "\n",
        "rep = {'material_5':5, 'material_6':6, 'material_7':7, 'material_8':8} #how to replace the material with number\n",
        "#replace two columns in train_data and test_data\n",
        "train_data = train_data.replace({'attribute_0': rep})\n",
        "train_data = train_data.replace({'attribute_1': rep})\n",
        "test_data = test_data.replace({'attribute_0': rep})\n",
        "test_data = test_data.replace({'attribute_1': rep})\n",
        "\n",
        "#fill in the nan value\n",
        "#inspire by https://www.kaggle.com/code/tomjosephmo/logistic-regression-with-missing-values-accounted\n",
        "for col in train_data.columns: #modify train data\n",
        "    if not type(train_data[col][0]) == str: #if it is nan\n",
        "        train_data[col].fillna(train_data[col].mean(), inplace=True)\n",
        "        \n",
        "for col in test_data.columns: #modify test data\n",
        "    if not type(test_data[col][0]) == str: #if it is nan\n",
        "        test_data[col].fillna(test_data[col].mean(), inplace=True)\n",
        "\n",
        "device = \"cuda\" if torch.cuda.is_available() else \"cpu\" #if cuda is available use cuda\n",
        "print(f\"Using {device} device\")\n",
        "\n",
        "x_train = train_data[cat_all].values #get out the feature training data\n",
        "y_train = train_data[val_ind].values #get out the target training data\n",
        "y_train = y_train.flatten()\n",
        "x_test = test_data[cat_all].values #get out the feature test data"
      ]
    },
    {
      "cell_type": "markdown",
      "source": [
        "# 新增區段"
      ],
      "metadata": {
        "id": "0gJLVcgUDoo-"
      }
    },
    {
      "cell_type": "markdown",
      "source": [
        "# 新增區段"
      ],
      "metadata": {
        "id": "7quSp3mcDpga"
      }
    },
    {
      "cell_type": "code",
      "execution_count": 31,
      "metadata": {
        "id": "NpxFAFZrDZjO"
      },
      "outputs": [],
      "source": [
        "class TPS_train_dataset(Dataset):\n",
        "    def __init__(self, x_data, y_data):\n",
        "        self.x_data = torch.tensor(x_data, dtype=torch.float32)\n",
        "        self.y_data = torch.tensor(y_data, dtype=torch.float32)\n",
        "        self.length = self.x_data.shape[0]\n",
        "\n",
        "    def __getitem__(self, ind):\n",
        "        return self.x_data[ind], self.y_data[ind] #return x data and y data\n",
        "\n",
        "    def __len__(self):\n",
        "        return self.length\n",
        "class TPS_test_dataset(Dataset):\n",
        "    def __init__(self, x_data):\n",
        "        self.x_data = torch.tensor(x_data, dtype=torch.float32)\n",
        "        self.length = self.x_data.shape[0]\n",
        "\n",
        "    def __getitem__(self, ind):\n",
        "        return self.x_data[ind] #test data dont have target feature so only return x\n",
        "\n",
        "    def __len__(self):\n",
        "        return self.length\n"
      ]
    },
    {
      "cell_type": "code",
      "execution_count": 32,
      "metadata": {
        "id": "MnOPKzO2DZjO"
      },
      "outputs": [],
      "source": [
        "#three fully connected layer\n",
        "class Model(nn.Module):\n",
        "    def __init__(self, num_feature):\n",
        "        super(Model, self).__init__()\n",
        "        self.fc1 = nn.Linear(num_feature, 32)\n",
        "        self.fc2 = nn.Linear(32, 64)\n",
        "        self.fc3 = nn.Linear(64, 1) #make output of the network to right dimension\n",
        "\n",
        "    def forward(self, x_data):\n",
        "        x_data = torch.relu(self.fc1(x_data)) #put in relu activation function\n",
        "        x_data = torch.relu(self.fc2(x_data))\n",
        "        x_data = torch.sigmoid(self.fc3(x_data)) #use sigmoid to make value between 0-1\n",
        "        return x_data #return model"
      ]
    },
    {
      "cell_type": "code",
      "execution_count": 33,
      "metadata": {
        "id": "lPqCGF29DZjO"
      },
      "outputs": [],
      "source": [
        "#load test data\n",
        "test_ds = TPS_test_dataset(x_test)\n",
        "test_dl = DataLoader(test_ds, batch_size = 1, shuffle = False)\n",
        "        "
      ]
    },
    {
      "cell_type": "code",
      "execution_count": 34,
      "metadata": {
        "id": "2amfPiIXDZjO",
        "colab": {
          "base_uri": "https://localhost:8080/",
          "height": 424
        },
        "outputId": "3719f77b-cb8c-4b8d-e954-dd2012432d4f"
      },
      "outputs": [
        {
          "output_type": "execute_result",
          "data": {
            "text/plain": [
              "          id   failure\n",
              "0      26570  0.219425\n",
              "1      26571  0.157592\n",
              "2      26572  0.185598\n",
              "3      26573  0.204562\n",
              "4      26574  0.310453\n",
              "...      ...       ...\n",
              "20770  47340  0.251734\n",
              "20771  47341  0.136056\n",
              "20772  47342  0.121570\n",
              "20773  47343  0.239759\n",
              "20774  47344  0.153062\n",
              "\n",
              "[20775 rows x 2 columns]"
            ],
            "text/html": [
              "\n",
              "  <div id=\"df-083a3b2c-0316-45a8-99d1-33bfe610e553\">\n",
              "    <div class=\"colab-df-container\">\n",
              "      <div>\n",
              "<style scoped>\n",
              "    .dataframe tbody tr th:only-of-type {\n",
              "        vertical-align: middle;\n",
              "    }\n",
              "\n",
              "    .dataframe tbody tr th {\n",
              "        vertical-align: top;\n",
              "    }\n",
              "\n",
              "    .dataframe thead th {\n",
              "        text-align: right;\n",
              "    }\n",
              "</style>\n",
              "<table border=\"1\" class=\"dataframe\">\n",
              "  <thead>\n",
              "    <tr style=\"text-align: right;\">\n",
              "      <th></th>\n",
              "      <th>id</th>\n",
              "      <th>failure</th>\n",
              "    </tr>\n",
              "  </thead>\n",
              "  <tbody>\n",
              "    <tr>\n",
              "      <th>0</th>\n",
              "      <td>26570</td>\n",
              "      <td>0.219425</td>\n",
              "    </tr>\n",
              "    <tr>\n",
              "      <th>1</th>\n",
              "      <td>26571</td>\n",
              "      <td>0.157592</td>\n",
              "    </tr>\n",
              "    <tr>\n",
              "      <th>2</th>\n",
              "      <td>26572</td>\n",
              "      <td>0.185598</td>\n",
              "    </tr>\n",
              "    <tr>\n",
              "      <th>3</th>\n",
              "      <td>26573</td>\n",
              "      <td>0.204562</td>\n",
              "    </tr>\n",
              "    <tr>\n",
              "      <th>4</th>\n",
              "      <td>26574</td>\n",
              "      <td>0.310453</td>\n",
              "    </tr>\n",
              "    <tr>\n",
              "      <th>...</th>\n",
              "      <td>...</td>\n",
              "      <td>...</td>\n",
              "    </tr>\n",
              "    <tr>\n",
              "      <th>20770</th>\n",
              "      <td>47340</td>\n",
              "      <td>0.251734</td>\n",
              "    </tr>\n",
              "    <tr>\n",
              "      <th>20771</th>\n",
              "      <td>47341</td>\n",
              "      <td>0.136056</td>\n",
              "    </tr>\n",
              "    <tr>\n",
              "      <th>20772</th>\n",
              "      <td>47342</td>\n",
              "      <td>0.121570</td>\n",
              "    </tr>\n",
              "    <tr>\n",
              "      <th>20773</th>\n",
              "      <td>47343</td>\n",
              "      <td>0.239759</td>\n",
              "    </tr>\n",
              "    <tr>\n",
              "      <th>20774</th>\n",
              "      <td>47344</td>\n",
              "      <td>0.153062</td>\n",
              "    </tr>\n",
              "  </tbody>\n",
              "</table>\n",
              "<p>20775 rows × 2 columns</p>\n",
              "</div>\n",
              "      <button class=\"colab-df-convert\" onclick=\"convertToInteractive('df-083a3b2c-0316-45a8-99d1-33bfe610e553')\"\n",
              "              title=\"Convert this dataframe to an interactive table.\"\n",
              "              style=\"display:none;\">\n",
              "        \n",
              "  <svg xmlns=\"http://www.w3.org/2000/svg\" height=\"24px\"viewBox=\"0 0 24 24\"\n",
              "       width=\"24px\">\n",
              "    <path d=\"M0 0h24v24H0V0z\" fill=\"none\"/>\n",
              "    <path d=\"M18.56 5.44l.94 2.06.94-2.06 2.06-.94-2.06-.94-.94-2.06-.94 2.06-2.06.94zm-11 1L8.5 8.5l.94-2.06 2.06-.94-2.06-.94L8.5 2.5l-.94 2.06-2.06.94zm10 10l.94 2.06.94-2.06 2.06-.94-2.06-.94-.94-2.06-.94 2.06-2.06.94z\"/><path d=\"M17.41 7.96l-1.37-1.37c-.4-.4-.92-.59-1.43-.59-.52 0-1.04.2-1.43.59L10.3 9.45l-7.72 7.72c-.78.78-.78 2.05 0 2.83L4 21.41c.39.39.9.59 1.41.59.51 0 1.02-.2 1.41-.59l7.78-7.78 2.81-2.81c.8-.78.8-2.07 0-2.86zM5.41 20L4 18.59l7.72-7.72 1.47 1.35L5.41 20z\"/>\n",
              "  </svg>\n",
              "      </button>\n",
              "      \n",
              "  <style>\n",
              "    .colab-df-container {\n",
              "      display:flex;\n",
              "      flex-wrap:wrap;\n",
              "      gap: 12px;\n",
              "    }\n",
              "\n",
              "    .colab-df-convert {\n",
              "      background-color: #E8F0FE;\n",
              "      border: none;\n",
              "      border-radius: 50%;\n",
              "      cursor: pointer;\n",
              "      display: none;\n",
              "      fill: #1967D2;\n",
              "      height: 32px;\n",
              "      padding: 0 0 0 0;\n",
              "      width: 32px;\n",
              "    }\n",
              "\n",
              "    .colab-df-convert:hover {\n",
              "      background-color: #E2EBFA;\n",
              "      box-shadow: 0px 1px 2px rgba(60, 64, 67, 0.3), 0px 1px 3px 1px rgba(60, 64, 67, 0.15);\n",
              "      fill: #174EA6;\n",
              "    }\n",
              "\n",
              "    [theme=dark] .colab-df-convert {\n",
              "      background-color: #3B4455;\n",
              "      fill: #D2E3FC;\n",
              "    }\n",
              "\n",
              "    [theme=dark] .colab-df-convert:hover {\n",
              "      background-color: #434B5C;\n",
              "      box-shadow: 0px 1px 3px 1px rgba(0, 0, 0, 0.15);\n",
              "      filter: drop-shadow(0px 1px 2px rgba(0, 0, 0, 0.3));\n",
              "      fill: #FFFFFF;\n",
              "    }\n",
              "  </style>\n",
              "\n",
              "      <script>\n",
              "        const buttonEl =\n",
              "          document.querySelector('#df-083a3b2c-0316-45a8-99d1-33bfe610e553 button.colab-df-convert');\n",
              "        buttonEl.style.display =\n",
              "          google.colab.kernel.accessAllowed ? 'block' : 'none';\n",
              "\n",
              "        async function convertToInteractive(key) {\n",
              "          const element = document.querySelector('#df-083a3b2c-0316-45a8-99d1-33bfe610e553');\n",
              "          const dataTable =\n",
              "            await google.colab.kernel.invokeFunction('convertToInteractive',\n",
              "                                                     [key], {});\n",
              "          if (!dataTable) return;\n",
              "\n",
              "          const docLinkHtml = 'Like what you see? Visit the ' +\n",
              "            '<a target=\"_blank\" href=https://colab.research.google.com/notebooks/data_table.ipynb>data table notebook</a>'\n",
              "            + ' to learn more about interactive tables.';\n",
              "          element.innerHTML = '';\n",
              "          dataTable['output_type'] = 'display_data';\n",
              "          await google.colab.output.renderOutput(dataTable, element);\n",
              "          const docLink = document.createElement('div');\n",
              "          docLink.innerHTML = docLinkHtml;\n",
              "          element.appendChild(docLink);\n",
              "        }\n",
              "      </script>\n",
              "    </div>\n",
              "  </div>\n",
              "  "
            ]
          },
          "metadata": {},
          "execution_count": 34
        }
      ],
      "source": [
        "ind = np.array([i for i in range(26570, 47345)])\n",
        "result = []\n",
        "model = Model(num_feature = 23)\n",
        "model.load_state_dict(torch.load(MODEL_PATH))\n",
        "model.eval()\n",
        "for x_data in test_dl:\n",
        "    pred = model(x_data) #predict the result\n",
        "    pred = pred.detach().numpy()\n",
        "    pred = pred.flatten()\n",
        "    result = np.concatenate((result, pred)) #concate all result together\n",
        "\n",
        "df = pd.DataFrame({\"id\":ind, \"failure\":result}, columns = [\"id\", \"failure\"]) #set dataframe\n",
        "df.to_csv(f\"109550147_submission.csv\", index=False) #index set to false so that csv file dont have one extra column\n",
        "df"
      ]
    }
  ],
  "metadata": {
    "kernelspec": {
      "display_name": "Python 3",
      "language": "python",
      "name": "python3"
    },
    "language_info": {
      "codemirror_mode": {
        "name": "ipython",
        "version": 3
      },
      "file_extension": ".py",
      "mimetype": "text/x-python",
      "name": "python",
      "nbconvert_exporter": "python",
      "pygments_lexer": "ipython3",
      "version": "3.8.10"
    },
    "orig_nbformat": 4,
    "vscode": {
      "interpreter": {
        "hash": "9650cb4e16cdd4a8e8e2d128bf38d875813998db22a3c986335f89e0cb4d7bb2"
      }
    },
    "colab": {
      "provenance": [],
      "toc_visible": true
    }
  },
  "nbformat": 4,
  "nbformat_minor": 0
}